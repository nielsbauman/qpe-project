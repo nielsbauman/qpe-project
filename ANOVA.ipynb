{
 "cells": [
  {
   "cell_type": "code",
   "execution_count": 2,
   "metadata": {},
   "outputs": [],
   "source": [
    "import numpy as np\n",
    "import pandas as pd\n",
    "import math"
   ]
  },
  {
   "cell_type": "code",
   "execution_count": 3,
   "metadata": {},
   "outputs": [],
   "source": [
    "# Obtain results from all experiments\n",
    "\n",
    "# df = pd.read_csv('qpe-project/data/all-experiments.csv')\n",
    "# df.set_index('id')\n",
    "# df.insert(5, 'Nodes', None)\n",
    "# df['Nodes'] = df['Total executor cores'] // df['Cores per executor']\n",
    "\n",
    "# Obtain results from already filtered experiments\n",
    "df = pd.read_csv('qpe-project/data/filtered-exploration-experiments.csv')"
   ]
  },
  {
   "cell_type": "code",
   "execution_count": 4,
   "metadata": {},
   "outputs": [],
   "source": [
    "# Filter all failed experiments\n",
    "df = df[pd.isnull(df['Note'])]\n",
    "df['Wall clock'] = df['Wall clock'].apply(lambda x: float('nan') if x == '0' else float(x[:-1]))"
   ]
  },
  {
   "cell_type": "markdown",
   "metadata": {},
   "source": [
    "### Exploration experiments analysis"
   ]
  },
  {
   "cell_type": "code",
   "execution_count": 5,
   "metadata": {},
   "outputs": [],
   "source": [
    "# Sign table return config for: Total nodes, Cores per node, Batch size, Model\n",
    "def sign_table(sign):\n",
    "    v = [0, 0, 0, 0]\n",
    "    v[0] = 1 if sign[0] == -1 else 4\n",
    "    v[1] = 1 if sign[1] == -1 else 4\n",
    "    v[2] = 64 if sign[2] == -1 else 256\n",
    "    v[3] = \"lenet5\" if sign[3] == -1 else \"bi-rnn\"\n",
    "    print('Config: ' + str(v))\n",
    "    return v\n",
    "\n",
    "# Returns the subset of experiments with the corresponding configuration\n",
    "def get_experiment(config):\n",
    "    return df[(df['Nodes'] == config[0]) & (df['Model'] == config[3]) & (df['Cores per executor'] == config[1]) & (df['Batch size'] == config[2])]"
   ]
  },
  {
   "cell_type": "code",
   "execution_count": 6,
   "metadata": {},
   "outputs": [
    {
     "name": "stdout",
     "output_type": "stream",
     "text": [
      "Config: [1, 1, 64, 'lenet5']\n"
     ]
    },
    {
     "data": {
      "text/html": [
       "<div>\n",
       "<style scoped>\n",
       "    .dataframe tbody tr th:only-of-type {\n",
       "        vertical-align: middle;\n",
       "    }\n",
       "\n",
       "    .dataframe tbody tr th {\n",
       "        vertical-align: top;\n",
       "    }\n",
       "\n",
       "    .dataframe thead th {\n",
       "        text-align: right;\n",
       "    }\n",
       "</style>\n",
       "<table border=\"1\" class=\"dataframe\">\n",
       "  <thead>\n",
       "    <tr style=\"text-align: right;\">\n",
       "      <th></th>\n",
       "      <th>id</th>\n",
       "      <th>Batch size</th>\n",
       "      <th>Memory per executor</th>\n",
       "      <th>Cores per executor</th>\n",
       "      <th>Total executor cores</th>\n",
       "      <th>Nodes</th>\n",
       "      <th>Model</th>\n",
       "      <th>Wall clock</th>\n",
       "      <th>Start log</th>\n",
       "      <th>End log</th>\n",
       "      <th>Note</th>\n",
       "    </tr>\n",
       "  </thead>\n",
       "  <tbody>\n",
       "    <tr>\n",
       "      <th>0</th>\n",
       "      <td>31</td>\n",
       "      <td>64</td>\n",
       "      <td>2G</td>\n",
       "      <td>1</td>\n",
       "      <td>1</td>\n",
       "      <td>1</td>\n",
       "      <td>lenet5</td>\n",
       "      <td>327.521836</td>\n",
       "      <td>00:01:35</td>\n",
       "      <td>00:07:50</td>\n",
       "      <td>NaN</td>\n",
       "    </tr>\n",
       "    <tr>\n",
       "      <th>1</th>\n",
       "      <td>32</td>\n",
       "      <td>64</td>\n",
       "      <td>2G</td>\n",
       "      <td>1</td>\n",
       "      <td>1</td>\n",
       "      <td>1</td>\n",
       "      <td>lenet5</td>\n",
       "      <td>325.779317</td>\n",
       "      <td>00:07:53</td>\n",
       "      <td>00:14:40</td>\n",
       "      <td>NaN</td>\n",
       "    </tr>\n",
       "    <tr>\n",
       "      <th>2</th>\n",
       "      <td>33</td>\n",
       "      <td>64</td>\n",
       "      <td>2G</td>\n",
       "      <td>1</td>\n",
       "      <td>1</td>\n",
       "      <td>1</td>\n",
       "      <td>lenet5</td>\n",
       "      <td>319.521097</td>\n",
       "      <td>00:14:43</td>\n",
       "      <td>00:20:55</td>\n",
       "      <td>NaN</td>\n",
       "    </tr>\n",
       "    <tr>\n",
       "      <th>3</th>\n",
       "      <td>34</td>\n",
       "      <td>64</td>\n",
       "      <td>2G</td>\n",
       "      <td>1</td>\n",
       "      <td>1</td>\n",
       "      <td>1</td>\n",
       "      <td>lenet5</td>\n",
       "      <td>319.640251</td>\n",
       "      <td>00:20:59</td>\n",
       "      <td>00:27:10</td>\n",
       "      <td>NaN</td>\n",
       "    </tr>\n",
       "  </tbody>\n",
       "</table>\n",
       "</div>"
      ],
      "text/plain": [
       "   id  Batch size Memory per executor  Cores per executor  \\\n",
       "0  31          64                  2G                   1   \n",
       "1  32          64                  2G                   1   \n",
       "2  33          64                  2G                   1   \n",
       "3  34          64                  2G                   1   \n",
       "\n",
       "   Total executor cores  Nodes   Model  Wall clock Start log   End log  Note  \n",
       "0                     1      1  lenet5  327.521836  00:01:35  00:07:50   NaN  \n",
       "1                     1      1  lenet5  325.779317  00:07:53  00:14:40   NaN  \n",
       "2                     1      1  lenet5  319.521097  00:14:43  00:20:55   NaN  \n",
       "3                     1      1  lenet5  319.640251  00:20:59  00:27:10   NaN  "
      ]
     },
     "execution_count": 6,
     "metadata": {},
     "output_type": "execute_result"
    }
   ],
   "source": [
    "# Experiment 1\n",
    "config = sign_table([-1, -1, -1, -1])\n",
    "experiment1 = get_experiment(config)\n",
    "exploration = experiment1\n",
    "exploration"
   ]
  },
  {
   "cell_type": "code",
   "execution_count": 7,
   "metadata": {},
   "outputs": [
    {
     "name": "stdout",
     "output_type": "stream",
     "text": [
      "Config: [4, 1, 64, 'bi-rnn']\n"
     ]
    }
   ],
   "source": [
    "# Experiment 2\n",
    "config = sign_table([1, -1, -1, 1])\n",
    "experiment2 = get_experiment(config)\n",
    "exploration = pd.concat([exploration, experiment2], axis=0)"
   ]
  },
  {
   "cell_type": "code",
   "execution_count": 8,
   "metadata": {},
   "outputs": [
    {
     "name": "stdout",
     "output_type": "stream",
     "text": [
      "Config: [1, 4, 64, 'bi-rnn']\n"
     ]
    }
   ],
   "source": [
    "# Experiment 3\n",
    "config = sign_table([-1, 1, -1, 1])\n",
    "experiment3 = get_experiment(config)\n",
    "exploration = pd.concat([exploration, experiment3], axis=0)"
   ]
  },
  {
   "cell_type": "code",
   "execution_count": 9,
   "metadata": {},
   "outputs": [
    {
     "name": "stdout",
     "output_type": "stream",
     "text": [
      "Config: [4, 4, 64, 'lenet5']\n"
     ]
    }
   ],
   "source": [
    "# Experiment 4\n",
    "config = sign_table([1, 1, -1, -1])\n",
    "experiment4 = get_experiment(config)\n",
    "exploration = pd.concat([exploration, experiment4], axis=0)\n",
    "#16 total cores, 4 cores per node, 64 batch size, lenet5, 2G mem"
   ]
  },
  {
   "cell_type": "code",
   "execution_count": 10,
   "metadata": {},
   "outputs": [
    {
     "name": "stdout",
     "output_type": "stream",
     "text": [
      "Config: [1, 1, 256, 'bi-rnn']\n"
     ]
    }
   ],
   "source": [
    "# Experiment 5\n",
    "config = sign_table([-1, -1, 1, 1])\n",
    "experiment5 = get_experiment(config)\n",
    "exploration = pd.concat([exploration, experiment5], axis=0)"
   ]
  },
  {
   "cell_type": "code",
   "execution_count": 11,
   "metadata": {},
   "outputs": [
    {
     "name": "stdout",
     "output_type": "stream",
     "text": [
      "Config: [4, 1, 256, 'lenet5']\n"
     ]
    }
   ],
   "source": [
    "# Experiment 6\n",
    "config = sign_table([1, -1, 1, -1])\n",
    "experiment6 = get_experiment(config)\n",
    "exploration = pd.concat([exploration, experiment6], axis=0)"
   ]
  },
  {
   "cell_type": "code",
   "execution_count": 12,
   "metadata": {},
   "outputs": [
    {
     "name": "stdout",
     "output_type": "stream",
     "text": [
      "Config: [1, 4, 256, 'lenet5']\n"
     ]
    }
   ],
   "source": [
    "# Experiment 7\n",
    "config = sign_table([-1, 1, 1, -1])\n",
    "experiment7 = get_experiment(config)\n",
    "exploration = pd.concat([exploration, experiment7], axis=0)"
   ]
  },
  {
   "cell_type": "code",
   "execution_count": 13,
   "metadata": {},
   "outputs": [
    {
     "name": "stdout",
     "output_type": "stream",
     "text": [
      "Config: [4, 4, 256, 'bi-rnn']\n"
     ]
    }
   ],
   "source": [
    "# Experiment 8\n",
    "config = sign_table([1, 1, 1, 1])\n",
    "experiment8 = get_experiment(config)\n",
    "exploration = pd.concat([exploration, experiment8], axis=0)\n",
    "#16 total cores, 4 cores per node, 256 batch size, bi-rnn, 2G mem"
   ]
  },
  {
   "cell_type": "code",
   "execution_count": null,
   "metadata": {},
   "outputs": [],
   "source": []
  },
  {
   "cell_type": "code",
   "execution_count": 15,
   "metadata": {},
   "outputs": [
    {
     "data": {
      "text/html": [
       "<div>\n",
       "<style scoped>\n",
       "    .dataframe tbody tr th:only-of-type {\n",
       "        vertical-align: middle;\n",
       "    }\n",
       "\n",
       "    .dataframe tbody tr th {\n",
       "        vertical-align: top;\n",
       "    }\n",
       "\n",
       "    .dataframe thead th {\n",
       "        text-align: right;\n",
       "    }\n",
       "</style>\n",
       "<table border=\"1\" class=\"dataframe\">\n",
       "  <thead>\n",
       "    <tr style=\"text-align: right;\">\n",
       "      <th></th>\n",
       "      <th>id</th>\n",
       "      <th>Batch size</th>\n",
       "      <th>Memory per executor</th>\n",
       "      <th>Cores per executor</th>\n",
       "      <th>Total executor cores</th>\n",
       "      <th>Nodes</th>\n",
       "      <th>Model</th>\n",
       "      <th>Wall clock</th>\n",
       "      <th>Start log</th>\n",
       "      <th>End log</th>\n",
       "      <th>Note</th>\n",
       "    </tr>\n",
       "  </thead>\n",
       "  <tbody>\n",
       "    <tr>\n",
       "      <th>0</th>\n",
       "      <td>31</td>\n",
       "      <td>64</td>\n",
       "      <td>2G</td>\n",
       "      <td>1</td>\n",
       "      <td>1</td>\n",
       "      <td>1</td>\n",
       "      <td>lenet5</td>\n",
       "      <td>327.521836</td>\n",
       "      <td>00:01:35</td>\n",
       "      <td>00:07:50</td>\n",
       "      <td>NaN</td>\n",
       "    </tr>\n",
       "    <tr>\n",
       "      <th>1</th>\n",
       "      <td>32</td>\n",
       "      <td>64</td>\n",
       "      <td>2G</td>\n",
       "      <td>1</td>\n",
       "      <td>1</td>\n",
       "      <td>1</td>\n",
       "      <td>lenet5</td>\n",
       "      <td>325.779317</td>\n",
       "      <td>00:07:53</td>\n",
       "      <td>00:14:40</td>\n",
       "      <td>NaN</td>\n",
       "    </tr>\n",
       "    <tr>\n",
       "      <th>2</th>\n",
       "      <td>33</td>\n",
       "      <td>64</td>\n",
       "      <td>2G</td>\n",
       "      <td>1</td>\n",
       "      <td>1</td>\n",
       "      <td>1</td>\n",
       "      <td>lenet5</td>\n",
       "      <td>319.521097</td>\n",
       "      <td>00:14:43</td>\n",
       "      <td>00:20:55</td>\n",
       "      <td>NaN</td>\n",
       "    </tr>\n",
       "    <tr>\n",
       "      <th>3</th>\n",
       "      <td>34</td>\n",
       "      <td>64</td>\n",
       "      <td>2G</td>\n",
       "      <td>1</td>\n",
       "      <td>1</td>\n",
       "      <td>1</td>\n",
       "      <td>lenet5</td>\n",
       "      <td>319.640251</td>\n",
       "      <td>00:20:59</td>\n",
       "      <td>00:27:10</td>\n",
       "      <td>NaN</td>\n",
       "    </tr>\n",
       "  </tbody>\n",
       "</table>\n",
       "</div>"
      ],
      "text/plain": [
       "   id  Batch size Memory per executor  Cores per executor  \\\n",
       "0  31          64                  2G                   1   \n",
       "1  32          64                  2G                   1   \n",
       "2  33          64                  2G                   1   \n",
       "3  34          64                  2G                   1   \n",
       "\n",
       "   Total executor cores  Nodes   Model  Wall clock Start log   End log  Note  \n",
       "0                     1      1  lenet5  327.521836  00:01:35  00:07:50   NaN  \n",
       "1                     1      1  lenet5  325.779317  00:07:53  00:14:40   NaN  \n",
       "2                     1      1  lenet5  319.521097  00:14:43  00:20:55   NaN  \n",
       "3                     1      1  lenet5  319.640251  00:20:59  00:27:10   NaN  "
      ]
     },
     "execution_count": 15,
     "metadata": {},
     "output_type": "execute_result"
    }
   ],
   "source": [
    "t = experiment1[experiment1['Memory per executor'] == '2G']\n",
    "# y1\n",
    "y1 = t['Wall clock'].mean()\n",
    "t"
   ]
  },
  {
   "cell_type": "code",
   "execution_count": 16,
   "metadata": {},
   "outputs": [
    {
     "data": {
      "text/html": [
       "<div>\n",
       "<style scoped>\n",
       "    .dataframe tbody tr th:only-of-type {\n",
       "        vertical-align: middle;\n",
       "    }\n",
       "\n",
       "    .dataframe tbody tr th {\n",
       "        vertical-align: top;\n",
       "    }\n",
       "\n",
       "    .dataframe thead th {\n",
       "        text-align: right;\n",
       "    }\n",
       "</style>\n",
       "<table border=\"1\" class=\"dataframe\">\n",
       "  <thead>\n",
       "    <tr style=\"text-align: right;\">\n",
       "      <th></th>\n",
       "      <th>id</th>\n",
       "      <th>Batch size</th>\n",
       "      <th>Memory per executor</th>\n",
       "      <th>Cores per executor</th>\n",
       "      <th>Total executor cores</th>\n",
       "      <th>Nodes</th>\n",
       "      <th>Model</th>\n",
       "      <th>Wall clock</th>\n",
       "      <th>Start log</th>\n",
       "      <th>End log</th>\n",
       "      <th>Note</th>\n",
       "    </tr>\n",
       "  </thead>\n",
       "  <tbody>\n",
       "    <tr>\n",
       "      <th>4</th>\n",
       "      <td>160</td>\n",
       "      <td>64</td>\n",
       "      <td>2G</td>\n",
       "      <td>1</td>\n",
       "      <td>4</td>\n",
       "      <td>4</td>\n",
       "      <td>bi-rnn</td>\n",
       "      <td>1160.792168</td>\n",
       "      <td>20:03:18</td>\n",
       "      <td>20:46:56</td>\n",
       "      <td>NaN</td>\n",
       "    </tr>\n",
       "    <tr>\n",
       "      <th>5</th>\n",
       "      <td>161</td>\n",
       "      <td>64</td>\n",
       "      <td>2G</td>\n",
       "      <td>1</td>\n",
       "      <td>4</td>\n",
       "      <td>4</td>\n",
       "      <td>bi-rnn</td>\n",
       "      <td>1185.705722</td>\n",
       "      <td>20:47:00</td>\n",
       "      <td>21:44:06</td>\n",
       "      <td>NaN</td>\n",
       "    </tr>\n",
       "    <tr>\n",
       "      <th>6</th>\n",
       "      <td>163</td>\n",
       "      <td>64</td>\n",
       "      <td>2G</td>\n",
       "      <td>1</td>\n",
       "      <td>4</td>\n",
       "      <td>4</td>\n",
       "      <td>bi-rnn</td>\n",
       "      <td>1082.267651</td>\n",
       "      <td>22:08:42</td>\n",
       "      <td>22:38:30</td>\n",
       "      <td>NaN</td>\n",
       "    </tr>\n",
       "  </tbody>\n",
       "</table>\n",
       "</div>"
      ],
      "text/plain": [
       "    id  Batch size Memory per executor  Cores per executor  \\\n",
       "4  160          64                  2G                   1   \n",
       "5  161          64                  2G                   1   \n",
       "6  163          64                  2G                   1   \n",
       "\n",
       "   Total executor cores  Nodes   Model   Wall clock Start log   End log  Note  \n",
       "4                     4      4  bi-rnn  1160.792168  20:03:18  20:46:56   NaN  \n",
       "5                     4      4  bi-rnn  1185.705722  20:47:00  21:44:06   NaN  \n",
       "6                     4      4  bi-rnn  1082.267651  22:08:42  22:38:30   NaN  "
      ]
     },
     "execution_count": 16,
     "metadata": {},
     "output_type": "execute_result"
    }
   ],
   "source": [
    "t = experiment2[experiment2['Memory per executor'] == '2G']\n",
    "# y2\n",
    "y2 = t['Wall clock'].mean()\n",
    "t"
   ]
  },
  {
   "cell_type": "code",
   "execution_count": 17,
   "metadata": {},
   "outputs": [
    {
     "data": {
      "text/html": [
       "<div>\n",
       "<style scoped>\n",
       "    .dataframe tbody tr th:only-of-type {\n",
       "        vertical-align: middle;\n",
       "    }\n",
       "\n",
       "    .dataframe tbody tr th {\n",
       "        vertical-align: top;\n",
       "    }\n",
       "\n",
       "    .dataframe thead th {\n",
       "        text-align: right;\n",
       "    }\n",
       "</style>\n",
       "<table border=\"1\" class=\"dataframe\">\n",
       "  <thead>\n",
       "    <tr style=\"text-align: right;\">\n",
       "      <th></th>\n",
       "      <th>id</th>\n",
       "      <th>Batch size</th>\n",
       "      <th>Memory per executor</th>\n",
       "      <th>Cores per executor</th>\n",
       "      <th>Total executor cores</th>\n",
       "      <th>Nodes</th>\n",
       "      <th>Model</th>\n",
       "      <th>Wall clock</th>\n",
       "      <th>Start log</th>\n",
       "      <th>End log</th>\n",
       "      <th>Note</th>\n",
       "    </tr>\n",
       "  </thead>\n",
       "  <tbody>\n",
       "    <tr>\n",
       "      <th>7</th>\n",
       "      <td>284</td>\n",
       "      <td>64</td>\n",
       "      <td>2G</td>\n",
       "      <td>4</td>\n",
       "      <td>4</td>\n",
       "      <td>1</td>\n",
       "      <td>bi-rnn</td>\n",
       "      <td>448.016374</td>\n",
       "      <td>13:49:26</td>\n",
       "      <td>13:57:25</td>\n",
       "      <td>NaN</td>\n",
       "    </tr>\n",
       "    <tr>\n",
       "      <th>8</th>\n",
       "      <td>285</td>\n",
       "      <td>64</td>\n",
       "      <td>2G</td>\n",
       "      <td>4</td>\n",
       "      <td>4</td>\n",
       "      <td>1</td>\n",
       "      <td>bi-rnn</td>\n",
       "      <td>447.684632</td>\n",
       "      <td>13:57:28</td>\n",
       "      <td>14:05:21</td>\n",
       "      <td>NaN</td>\n",
       "    </tr>\n",
       "    <tr>\n",
       "      <th>9</th>\n",
       "      <td>286</td>\n",
       "      <td>64</td>\n",
       "      <td>2G</td>\n",
       "      <td>4</td>\n",
       "      <td>4</td>\n",
       "      <td>1</td>\n",
       "      <td>bi-rnn</td>\n",
       "      <td>439.270671</td>\n",
       "      <td>14:05:25</td>\n",
       "      <td>14:13:10</td>\n",
       "      <td>NaN</td>\n",
       "    </tr>\n",
       "    <tr>\n",
       "      <th>10</th>\n",
       "      <td>287</td>\n",
       "      <td>64</td>\n",
       "      <td>2G</td>\n",
       "      <td>4</td>\n",
       "      <td>4</td>\n",
       "      <td>1</td>\n",
       "      <td>bi-rnn</td>\n",
       "      <td>448.244983</td>\n",
       "      <td>14:13:13</td>\n",
       "      <td>14:21:07</td>\n",
       "      <td>NaN</td>\n",
       "    </tr>\n",
       "  </tbody>\n",
       "</table>\n",
       "</div>"
      ],
      "text/plain": [
       "     id  Batch size Memory per executor  Cores per executor  \\\n",
       "7   284          64                  2G                   4   \n",
       "8   285          64                  2G                   4   \n",
       "9   286          64                  2G                   4   \n",
       "10  287          64                  2G                   4   \n",
       "\n",
       "    Total executor cores  Nodes   Model  Wall clock Start log   End log  Note  \n",
       "7                      4      1  bi-rnn  448.016374  13:49:26  13:57:25   NaN  \n",
       "8                      4      1  bi-rnn  447.684632  13:57:28  14:05:21   NaN  \n",
       "9                      4      1  bi-rnn  439.270671  14:05:25  14:13:10   NaN  \n",
       "10                     4      1  bi-rnn  448.244983  14:13:13  14:21:07   NaN  "
      ]
     },
     "execution_count": 17,
     "metadata": {},
     "output_type": "execute_result"
    }
   ],
   "source": [
    "t = experiment3\n",
    "# y3\n",
    "y3 = t['Wall clock'].mean()\n",
    "t"
   ]
  },
  {
   "cell_type": "code",
   "execution_count": 18,
   "metadata": {},
   "outputs": [
    {
     "data": {
      "text/html": [
       "<div>\n",
       "<style scoped>\n",
       "    .dataframe tbody tr th:only-of-type {\n",
       "        vertical-align: middle;\n",
       "    }\n",
       "\n",
       "    .dataframe tbody tr th {\n",
       "        vertical-align: top;\n",
       "    }\n",
       "\n",
       "    .dataframe thead th {\n",
       "        text-align: right;\n",
       "    }\n",
       "</style>\n",
       "<table border=\"1\" class=\"dataframe\">\n",
       "  <thead>\n",
       "    <tr style=\"text-align: right;\">\n",
       "      <th></th>\n",
       "      <th>id</th>\n",
       "      <th>Batch size</th>\n",
       "      <th>Memory per executor</th>\n",
       "      <th>Cores per executor</th>\n",
       "      <th>Total executor cores</th>\n",
       "      <th>Nodes</th>\n",
       "      <th>Model</th>\n",
       "      <th>Wall clock</th>\n",
       "      <th>Start log</th>\n",
       "      <th>End log</th>\n",
       "      <th>Note</th>\n",
       "    </tr>\n",
       "  </thead>\n",
       "  <tbody>\n",
       "    <tr>\n",
       "      <th>11</th>\n",
       "      <td>61</td>\n",
       "      <td>64</td>\n",
       "      <td>2G</td>\n",
       "      <td>4</td>\n",
       "      <td>16</td>\n",
       "      <td>4</td>\n",
       "      <td>lenet5</td>\n",
       "      <td>496.975526</td>\n",
       "      <td>18:42:29</td>\n",
       "      <td>18:51:08</td>\n",
       "      <td>NaN</td>\n",
       "    </tr>\n",
       "    <tr>\n",
       "      <th>12</th>\n",
       "      <td>62</td>\n",
       "      <td>64</td>\n",
       "      <td>2G</td>\n",
       "      <td>4</td>\n",
       "      <td>16</td>\n",
       "      <td>4</td>\n",
       "      <td>lenet5</td>\n",
       "      <td>491.383628</td>\n",
       "      <td>18:51:12</td>\n",
       "      <td>18:59:46</td>\n",
       "      <td>NaN</td>\n",
       "    </tr>\n",
       "    <tr>\n",
       "      <th>13</th>\n",
       "      <td>63</td>\n",
       "      <td>64</td>\n",
       "      <td>2G</td>\n",
       "      <td>4</td>\n",
       "      <td>16</td>\n",
       "      <td>4</td>\n",
       "      <td>lenet5</td>\n",
       "      <td>487.011198</td>\n",
       "      <td>18:59:50</td>\n",
       "      <td>19:08:20</td>\n",
       "      <td>NaN</td>\n",
       "    </tr>\n",
       "    <tr>\n",
       "      <th>14</th>\n",
       "      <td>64</td>\n",
       "      <td>64</td>\n",
       "      <td>2G</td>\n",
       "      <td>4</td>\n",
       "      <td>16</td>\n",
       "      <td>4</td>\n",
       "      <td>lenet5</td>\n",
       "      <td>487.210052</td>\n",
       "      <td>19:08:24</td>\n",
       "      <td>19:16:55</td>\n",
       "      <td>NaN</td>\n",
       "    </tr>\n",
       "  </tbody>\n",
       "</table>\n",
       "</div>"
      ],
      "text/plain": [
       "    id  Batch size Memory per executor  Cores per executor  \\\n",
       "11  61          64                  2G                   4   \n",
       "12  62          64                  2G                   4   \n",
       "13  63          64                  2G                   4   \n",
       "14  64          64                  2G                   4   \n",
       "\n",
       "    Total executor cores  Nodes   Model  Wall clock Start log   End log  Note  \n",
       "11                    16      4  lenet5  496.975526  18:42:29  18:51:08   NaN  \n",
       "12                    16      4  lenet5  491.383628  18:51:12  18:59:46   NaN  \n",
       "13                    16      4  lenet5  487.011198  18:59:50  19:08:20   NaN  \n",
       "14                    16      4  lenet5  487.210052  19:08:24  19:16:55   NaN  "
      ]
     },
     "execution_count": 18,
     "metadata": {},
     "output_type": "execute_result"
    }
   ],
   "source": [
    "t = experiment4\n",
    "# y4\n",
    "y4 = t['Wall clock'].mean()\n",
    "t"
   ]
  },
  {
   "cell_type": "code",
   "execution_count": 19,
   "metadata": {},
   "outputs": [
    {
     "data": {
      "text/html": [
       "<div>\n",
       "<style scoped>\n",
       "    .dataframe tbody tr th:only-of-type {\n",
       "        vertical-align: middle;\n",
       "    }\n",
       "\n",
       "    .dataframe tbody tr th {\n",
       "        vertical-align: top;\n",
       "    }\n",
       "\n",
       "    .dataframe thead th {\n",
       "        text-align: right;\n",
       "    }\n",
       "</style>\n",
       "<table border=\"1\" class=\"dataframe\">\n",
       "  <thead>\n",
       "    <tr style=\"text-align: right;\">\n",
       "      <th></th>\n",
       "      <th>id</th>\n",
       "      <th>Batch size</th>\n",
       "      <th>Memory per executor</th>\n",
       "      <th>Cores per executor</th>\n",
       "      <th>Total executor cores</th>\n",
       "      <th>Nodes</th>\n",
       "      <th>Model</th>\n",
       "      <th>Wall clock</th>\n",
       "      <th>Start log</th>\n",
       "      <th>End log</th>\n",
       "      <th>Note</th>\n",
       "    </tr>\n",
       "  </thead>\n",
       "  <tbody>\n",
       "    <tr>\n",
       "      <th>15</th>\n",
       "      <td>249</td>\n",
       "      <td>256</td>\n",
       "      <td>2G</td>\n",
       "      <td>1</td>\n",
       "      <td>1</td>\n",
       "      <td>1</td>\n",
       "      <td>bi-rnn</td>\n",
       "      <td>2343.000000</td>\n",
       "      <td>18:40:26</td>\n",
       "      <td>19:19:29</td>\n",
       "      <td>NaN</td>\n",
       "    </tr>\n",
       "    <tr>\n",
       "      <th>16</th>\n",
       "      <td>250</td>\n",
       "      <td>256</td>\n",
       "      <td>2G</td>\n",
       "      <td>1</td>\n",
       "      <td>1</td>\n",
       "      <td>1</td>\n",
       "      <td>bi-rnn</td>\n",
       "      <td>2011.000000</td>\n",
       "      <td>19:19:33</td>\n",
       "      <td>19:53:04</td>\n",
       "      <td>NaN</td>\n",
       "    </tr>\n",
       "    <tr>\n",
       "      <th>17</th>\n",
       "      <td>251</td>\n",
       "      <td>256</td>\n",
       "      <td>2G</td>\n",
       "      <td>1</td>\n",
       "      <td>1</td>\n",
       "      <td>1</td>\n",
       "      <td>bi-rnn</td>\n",
       "      <td>1976.653225</td>\n",
       "      <td>19:53:07</td>\n",
       "      <td>20:27:37</td>\n",
       "      <td>NaN</td>\n",
       "    </tr>\n",
       "    <tr>\n",
       "      <th>18</th>\n",
       "      <td>252</td>\n",
       "      <td>256</td>\n",
       "      <td>2G</td>\n",
       "      <td>1</td>\n",
       "      <td>1</td>\n",
       "      <td>1</td>\n",
       "      <td>bi-rnn</td>\n",
       "      <td>1919.602948</td>\n",
       "      <td>20:27:41</td>\n",
       "      <td>21:00:32</td>\n",
       "      <td>NaN</td>\n",
       "    </tr>\n",
       "  </tbody>\n",
       "</table>\n",
       "</div>"
      ],
      "text/plain": [
       "     id  Batch size Memory per executor  Cores per executor  \\\n",
       "15  249         256                  2G                   1   \n",
       "16  250         256                  2G                   1   \n",
       "17  251         256                  2G                   1   \n",
       "18  252         256                  2G                   1   \n",
       "\n",
       "    Total executor cores  Nodes   Model   Wall clock Start log   End log  Note  \n",
       "15                     1      1  bi-rnn  2343.000000  18:40:26  19:19:29   NaN  \n",
       "16                     1      1  bi-rnn  2011.000000  19:19:33  19:53:04   NaN  \n",
       "17                     1      1  bi-rnn  1976.653225  19:53:07  20:27:37   NaN  \n",
       "18                     1      1  bi-rnn  1919.602948  20:27:41  21:00:32   NaN  "
      ]
     },
     "execution_count": 19,
     "metadata": {},
     "output_type": "execute_result"
    }
   ],
   "source": [
    "t = experiment5\n",
    "# y5\n",
    "y5 = t['Wall clock'].mean()\n",
    "t"
   ]
  },
  {
   "cell_type": "code",
   "execution_count": 20,
   "metadata": {},
   "outputs": [
    {
     "data": {
      "text/html": [
       "<div>\n",
       "<style scoped>\n",
       "    .dataframe tbody tr th:only-of-type {\n",
       "        vertical-align: middle;\n",
       "    }\n",
       "\n",
       "    .dataframe tbody tr th {\n",
       "        vertical-align: top;\n",
       "    }\n",
       "\n",
       "    .dataframe thead th {\n",
       "        text-align: right;\n",
       "    }\n",
       "</style>\n",
       "<table border=\"1\" class=\"dataframe\">\n",
       "  <thead>\n",
       "    <tr style=\"text-align: right;\">\n",
       "      <th></th>\n",
       "      <th>id</th>\n",
       "      <th>Batch size</th>\n",
       "      <th>Memory per executor</th>\n",
       "      <th>Cores per executor</th>\n",
       "      <th>Total executor cores</th>\n",
       "      <th>Nodes</th>\n",
       "      <th>Model</th>\n",
       "      <th>Wall clock</th>\n",
       "      <th>Start log</th>\n",
       "      <th>End log</th>\n",
       "      <th>Note</th>\n",
       "    </tr>\n",
       "  </thead>\n",
       "  <tbody>\n",
       "    <tr>\n",
       "      <th>19</th>\n",
       "      <td>80</td>\n",
       "      <td>256</td>\n",
       "      <td>2G</td>\n",
       "      <td>1</td>\n",
       "      <td>4</td>\n",
       "      <td>4</td>\n",
       "      <td>lenet5</td>\n",
       "      <td>97.937506</td>\n",
       "      <td>17:55:46</td>\n",
       "      <td>17:57:53</td>\n",
       "      <td>NaN</td>\n",
       "    </tr>\n",
       "    <tr>\n",
       "      <th>20</th>\n",
       "      <td>81</td>\n",
       "      <td>256</td>\n",
       "      <td>2G</td>\n",
       "      <td>1</td>\n",
       "      <td>4</td>\n",
       "      <td>4</td>\n",
       "      <td>lenet5</td>\n",
       "      <td>104.362405</td>\n",
       "      <td>17:57:56</td>\n",
       "      <td>18:00:08</td>\n",
       "      <td>NaN</td>\n",
       "    </tr>\n",
       "    <tr>\n",
       "      <th>21</th>\n",
       "      <td>82</td>\n",
       "      <td>256</td>\n",
       "      <td>2G</td>\n",
       "      <td>1</td>\n",
       "      <td>4</td>\n",
       "      <td>4</td>\n",
       "      <td>lenet5</td>\n",
       "      <td>98.245546</td>\n",
       "      <td>18:00:12</td>\n",
       "      <td>18:02:17</td>\n",
       "      <td>NaN</td>\n",
       "    </tr>\n",
       "    <tr>\n",
       "      <th>22</th>\n",
       "      <td>83</td>\n",
       "      <td>256</td>\n",
       "      <td>2G</td>\n",
       "      <td>1</td>\n",
       "      <td>4</td>\n",
       "      <td>4</td>\n",
       "      <td>lenet5</td>\n",
       "      <td>96.812719</td>\n",
       "      <td>18:02:21</td>\n",
       "      <td>18:04:23</td>\n",
       "      <td>NaN</td>\n",
       "    </tr>\n",
       "  </tbody>\n",
       "</table>\n",
       "</div>"
      ],
      "text/plain": [
       "    id  Batch size Memory per executor  Cores per executor  \\\n",
       "19  80         256                  2G                   1   \n",
       "20  81         256                  2G                   1   \n",
       "21  82         256                  2G                   1   \n",
       "22  83         256                  2G                   1   \n",
       "\n",
       "    Total executor cores  Nodes   Model  Wall clock Start log   End log  Note  \n",
       "19                     4      4  lenet5   97.937506  17:55:46  17:57:53   NaN  \n",
       "20                     4      4  lenet5  104.362405  17:57:56  18:00:08   NaN  \n",
       "21                     4      4  lenet5   98.245546  18:00:12  18:02:17   NaN  \n",
       "22                     4      4  lenet5   96.812719  18:02:21  18:04:23   NaN  "
      ]
     },
     "execution_count": 20,
     "metadata": {},
     "output_type": "execute_result"
    }
   ],
   "source": [
    "t = experiment6\n",
    "# y6\n",
    "y6 = t['Wall clock'].mean()\n",
    "t"
   ]
  },
  {
   "cell_type": "code",
   "execution_count": 21,
   "metadata": {},
   "outputs": [
    {
     "data": {
      "text/html": [
       "<div>\n",
       "<style scoped>\n",
       "    .dataframe tbody tr th:only-of-type {\n",
       "        vertical-align: middle;\n",
       "    }\n",
       "\n",
       "    .dataframe tbody tr th {\n",
       "        vertical-align: top;\n",
       "    }\n",
       "\n",
       "    .dataframe thead th {\n",
       "        text-align: right;\n",
       "    }\n",
       "</style>\n",
       "<table border=\"1\" class=\"dataframe\">\n",
       "  <thead>\n",
       "    <tr style=\"text-align: right;\">\n",
       "      <th></th>\n",
       "      <th>id</th>\n",
       "      <th>Batch size</th>\n",
       "      <th>Memory per executor</th>\n",
       "      <th>Cores per executor</th>\n",
       "      <th>Total executor cores</th>\n",
       "      <th>Nodes</th>\n",
       "      <th>Model</th>\n",
       "      <th>Wall clock</th>\n",
       "      <th>Start log</th>\n",
       "      <th>End log</th>\n",
       "      <th>Note</th>\n",
       "    </tr>\n",
       "  </thead>\n",
       "  <tbody>\n",
       "    <tr>\n",
       "      <th>23</th>\n",
       "      <td>174</td>\n",
       "      <td>256</td>\n",
       "      <td>2G</td>\n",
       "      <td>4</td>\n",
       "      <td>4</td>\n",
       "      <td>1</td>\n",
       "      <td>lenet5</td>\n",
       "      <td>86.312304</td>\n",
       "      <td>07:04:51</td>\n",
       "      <td>07:06:38</td>\n",
       "      <td>NaN</td>\n",
       "    </tr>\n",
       "    <tr>\n",
       "      <th>24</th>\n",
       "      <td>175</td>\n",
       "      <td>256</td>\n",
       "      <td>2G</td>\n",
       "      <td>4</td>\n",
       "      <td>4</td>\n",
       "      <td>1</td>\n",
       "      <td>lenet5</td>\n",
       "      <td>88.912040</td>\n",
       "      <td>07:06:42</td>\n",
       "      <td>07:08:32</td>\n",
       "      <td>NaN</td>\n",
       "    </tr>\n",
       "    <tr>\n",
       "      <th>25</th>\n",
       "      <td>176</td>\n",
       "      <td>256</td>\n",
       "      <td>2G</td>\n",
       "      <td>4</td>\n",
       "      <td>4</td>\n",
       "      <td>1</td>\n",
       "      <td>lenet5</td>\n",
       "      <td>87.395551</td>\n",
       "      <td>07:08:35</td>\n",
       "      <td>07:10:23</td>\n",
       "      <td>NaN</td>\n",
       "    </tr>\n",
       "    <tr>\n",
       "      <th>26</th>\n",
       "      <td>177</td>\n",
       "      <td>256</td>\n",
       "      <td>2G</td>\n",
       "      <td>4</td>\n",
       "      <td>4</td>\n",
       "      <td>1</td>\n",
       "      <td>lenet5</td>\n",
       "      <td>87.644849</td>\n",
       "      <td>07:10:26</td>\n",
       "      <td>07:12:15</td>\n",
       "      <td>NaN</td>\n",
       "    </tr>\n",
       "    <tr>\n",
       "      <th>27</th>\n",
       "      <td>178</td>\n",
       "      <td>256</td>\n",
       "      <td>2G</td>\n",
       "      <td>4</td>\n",
       "      <td>4</td>\n",
       "      <td>1</td>\n",
       "      <td>lenet5</td>\n",
       "      <td>88.741586</td>\n",
       "      <td>07:12:18</td>\n",
       "      <td>07:14:08</td>\n",
       "      <td>NaN</td>\n",
       "    </tr>\n",
       "  </tbody>\n",
       "</table>\n",
       "</div>"
      ],
      "text/plain": [
       "     id  Batch size Memory per executor  Cores per executor  \\\n",
       "23  174         256                  2G                   4   \n",
       "24  175         256                  2G                   4   \n",
       "25  176         256                  2G                   4   \n",
       "26  177         256                  2G                   4   \n",
       "27  178         256                  2G                   4   \n",
       "\n",
       "    Total executor cores  Nodes   Model  Wall clock Start log   End log  Note  \n",
       "23                     4      1  lenet5   86.312304  07:04:51  07:06:38   NaN  \n",
       "24                     4      1  lenet5   88.912040  07:06:42  07:08:32   NaN  \n",
       "25                     4      1  lenet5   87.395551  07:08:35  07:10:23   NaN  \n",
       "26                     4      1  lenet5   87.644849  07:10:26  07:12:15   NaN  \n",
       "27                     4      1  lenet5   88.741586  07:12:18  07:14:08   NaN  "
      ]
     },
     "execution_count": 21,
     "metadata": {},
     "output_type": "execute_result"
    }
   ],
   "source": [
    "t = experiment7[experiment7['Memory per executor'] == '2G']\n",
    "# y7\n",
    "y7 = t['Wall clock'].mean()\n",
    "t"
   ]
  },
  {
   "cell_type": "code",
   "execution_count": 22,
   "metadata": {},
   "outputs": [
    {
     "data": {
      "text/html": [
       "<div>\n",
       "<style scoped>\n",
       "    .dataframe tbody tr th:only-of-type {\n",
       "        vertical-align: middle;\n",
       "    }\n",
       "\n",
       "    .dataframe tbody tr th {\n",
       "        vertical-align: top;\n",
       "    }\n",
       "\n",
       "    .dataframe thead th {\n",
       "        text-align: right;\n",
       "    }\n",
       "</style>\n",
       "<table border=\"1\" class=\"dataframe\">\n",
       "  <thead>\n",
       "    <tr style=\"text-align: right;\">\n",
       "      <th></th>\n",
       "      <th>id</th>\n",
       "      <th>Batch size</th>\n",
       "      <th>Memory per executor</th>\n",
       "      <th>Cores per executor</th>\n",
       "      <th>Total executor cores</th>\n",
       "      <th>Nodes</th>\n",
       "      <th>Model</th>\n",
       "      <th>Wall clock</th>\n",
       "      <th>Start log</th>\n",
       "      <th>End log</th>\n",
       "      <th>Note</th>\n",
       "    </tr>\n",
       "  </thead>\n",
       "  <tbody>\n",
       "    <tr>\n",
       "      <th>28</th>\n",
       "      <td>90</td>\n",
       "      <td>256</td>\n",
       "      <td>2G</td>\n",
       "      <td>4</td>\n",
       "      <td>16</td>\n",
       "      <td>4</td>\n",
       "      <td>bi-rnn</td>\n",
       "      <td>148.628588</td>\n",
       "      <td>20:25:29</td>\n",
       "      <td>20:28:19</td>\n",
       "      <td>NaN</td>\n",
       "    </tr>\n",
       "    <tr>\n",
       "      <th>29</th>\n",
       "      <td>91</td>\n",
       "      <td>256</td>\n",
       "      <td>2G</td>\n",
       "      <td>4</td>\n",
       "      <td>16</td>\n",
       "      <td>4</td>\n",
       "      <td>bi-rnn</td>\n",
       "      <td>151.509548</td>\n",
       "      <td>20:28:23</td>\n",
       "      <td>20:31:17</td>\n",
       "      <td>NaN</td>\n",
       "    </tr>\n",
       "    <tr>\n",
       "      <th>30</th>\n",
       "      <td>92</td>\n",
       "      <td>256</td>\n",
       "      <td>2G</td>\n",
       "      <td>4</td>\n",
       "      <td>16</td>\n",
       "      <td>4</td>\n",
       "      <td>bi-rnn</td>\n",
       "      <td>150.103488</td>\n",
       "      <td>20:31:20</td>\n",
       "      <td>20:34:14</td>\n",
       "      <td>NaN</td>\n",
       "    </tr>\n",
       "    <tr>\n",
       "      <th>31</th>\n",
       "      <td>93</td>\n",
       "      <td>256</td>\n",
       "      <td>2G</td>\n",
       "      <td>4</td>\n",
       "      <td>16</td>\n",
       "      <td>4</td>\n",
       "      <td>bi-rnn</td>\n",
       "      <td>151.529120</td>\n",
       "      <td>20:34:17</td>\n",
       "      <td>20:37:11</td>\n",
       "      <td>NaN</td>\n",
       "    </tr>\n",
       "    <tr>\n",
       "      <th>32</th>\n",
       "      <td>94</td>\n",
       "      <td>256</td>\n",
       "      <td>2G</td>\n",
       "      <td>4</td>\n",
       "      <td>16</td>\n",
       "      <td>4</td>\n",
       "      <td>bi-rnn</td>\n",
       "      <td>149.808149</td>\n",
       "      <td>20:37:14</td>\n",
       "      <td>20:40:07</td>\n",
       "      <td>NaN</td>\n",
       "    </tr>\n",
       "  </tbody>\n",
       "</table>\n",
       "</div>"
      ],
      "text/plain": [
       "    id  Batch size Memory per executor  Cores per executor  \\\n",
       "28  90         256                  2G                   4   \n",
       "29  91         256                  2G                   4   \n",
       "30  92         256                  2G                   4   \n",
       "31  93         256                  2G                   4   \n",
       "32  94         256                  2G                   4   \n",
       "\n",
       "    Total executor cores  Nodes   Model  Wall clock Start log   End log  Note  \n",
       "28                    16      4  bi-rnn  148.628588  20:25:29  20:28:19   NaN  \n",
       "29                    16      4  bi-rnn  151.509548  20:28:23  20:31:17   NaN  \n",
       "30                    16      4  bi-rnn  150.103488  20:31:20  20:34:14   NaN  \n",
       "31                    16      4  bi-rnn  151.529120  20:34:17  20:37:11   NaN  \n",
       "32                    16      4  bi-rnn  149.808149  20:37:14  20:40:07   NaN  "
      ]
     },
     "execution_count": 22,
     "metadata": {},
     "output_type": "execute_result"
    }
   ],
   "source": [
    "t = experiment8\n",
    "# y8\n",
    "y8 = t['Wall clock'].mean()\n",
    "((experiment8['Wall clock'] - y8)**2)\n",
    "t"
   ]
  },
  {
   "cell_type": "code",
   "execution_count": 23,
   "metadata": {},
   "outputs": [
    {
     "data": {
      "text/plain": [
       "(323.115625252,\n",
       " 1142.9218471683334,\n",
       " 445.8041653065,\n",
       " 490.64510090375,\n",
       " 2062.56404323825,\n",
       " 99.33954402575,\n",
       " 87.80126602739999,\n",
       " 150.31577844420002)"
      ]
     },
     "execution_count": 23,
     "metadata": {},
     "output_type": "execute_result"
    }
   ],
   "source": [
    "y1, y2, y3,y4,y5,y6,y7,y8"
   ]
  },
  {
   "cell_type": "code",
   "execution_count": 24,
   "metadata": {},
   "outputs": [
    {
     "data": {
      "text/plain": [
       "[51.5088001585849,\n",
       " 5828.739847946132,\n",
       " 57.07416937112021,\n",
       " 65.62450861839153,\n",
       " 109121.71980481752,\n",
       " 34.77651482124285,\n",
       " 4.524098164392572,\n",
       " 6.046650606020362]"
      ]
     },
     "execution_count": 24,
     "metadata": {},
     "output_type": "execute_result"
    }
   ],
   "source": [
    "# Sum of squares differences for the response time\n",
    "ex = [experiment1, experiment2, experiment3,experiment4,experiment5,experiment6,experiment7,experiment8]\n",
    "[((e['Wall clock'] - e['Wall clock'].mean())**2).sum() for e in ex]"
   ]
  },
  {
   "cell_type": "code",
   "execution_count": 25,
   "metadata": {},
   "outputs": [
    {
     "data": {
      "text/html": [
       "<div>\n",
       "<style scoped>\n",
       "    .dataframe tbody tr th:only-of-type {\n",
       "        vertical-align: middle;\n",
       "    }\n",
       "\n",
       "    .dataframe tbody tr th {\n",
       "        vertical-align: top;\n",
       "    }\n",
       "\n",
       "    .dataframe thead th {\n",
       "        text-align: right;\n",
       "    }\n",
       "</style>\n",
       "<table border=\"1\" class=\"dataframe\">\n",
       "  <thead>\n",
       "    <tr style=\"text-align: right;\">\n",
       "      <th></th>\n",
       "      <th>id</th>\n",
       "      <th>Batch size</th>\n",
       "      <th>Memory per executor</th>\n",
       "      <th>Cores per executor</th>\n",
       "      <th>Total executor cores</th>\n",
       "      <th>Nodes</th>\n",
       "      <th>Model</th>\n",
       "      <th>Wall clock</th>\n",
       "      <th>Start log</th>\n",
       "      <th>End log</th>\n",
       "      <th>Note</th>\n",
       "    </tr>\n",
       "  </thead>\n",
       "  <tbody>\n",
       "    <tr>\n",
       "      <th>4</th>\n",
       "      <td>160</td>\n",
       "      <td>64</td>\n",
       "      <td>2G</td>\n",
       "      <td>1</td>\n",
       "      <td>4</td>\n",
       "      <td>4</td>\n",
       "      <td>bi-rnn</td>\n",
       "      <td>1160.792168</td>\n",
       "      <td>20:03:18</td>\n",
       "      <td>20:46:56</td>\n",
       "      <td>NaN</td>\n",
       "    </tr>\n",
       "    <tr>\n",
       "      <th>5</th>\n",
       "      <td>161</td>\n",
       "      <td>64</td>\n",
       "      <td>2G</td>\n",
       "      <td>1</td>\n",
       "      <td>4</td>\n",
       "      <td>4</td>\n",
       "      <td>bi-rnn</td>\n",
       "      <td>1185.705722</td>\n",
       "      <td>20:47:00</td>\n",
       "      <td>21:44:06</td>\n",
       "      <td>NaN</td>\n",
       "    </tr>\n",
       "    <tr>\n",
       "      <th>6</th>\n",
       "      <td>163</td>\n",
       "      <td>64</td>\n",
       "      <td>2G</td>\n",
       "      <td>1</td>\n",
       "      <td>4</td>\n",
       "      <td>4</td>\n",
       "      <td>bi-rnn</td>\n",
       "      <td>1082.267651</td>\n",
       "      <td>22:08:42</td>\n",
       "      <td>22:38:30</td>\n",
       "      <td>NaN</td>\n",
       "    </tr>\n",
       "  </tbody>\n",
       "</table>\n",
       "</div>"
      ],
      "text/plain": [
       "    id  Batch size Memory per executor  Cores per executor  \\\n",
       "4  160          64                  2G                   1   \n",
       "5  161          64                  2G                   1   \n",
       "6  163          64                  2G                   1   \n",
       "\n",
       "   Total executor cores  Nodes   Model   Wall clock Start log   End log  Note  \n",
       "4                     4      4  bi-rnn  1160.792168  20:03:18  20:46:56   NaN  \n",
       "5                     4      4  bi-rnn  1185.705722  20:47:00  21:44:06   NaN  \n",
       "6                     4      4  bi-rnn  1082.267651  22:08:42  22:38:30   NaN  "
      ]
     },
     "execution_count": 25,
     "metadata": {},
     "output_type": "execute_result"
    }
   ],
   "source": [
    "experiment2"
   ]
  },
  {
   "cell_type": "code",
   "execution_count": 26,
   "metadata": {
    "scrolled": true
   },
   "outputs": [
    {
     "data": {
      "text/html": [
       "<div>\n",
       "<style scoped>\n",
       "    .dataframe tbody tr th:only-of-type {\n",
       "        vertical-align: middle;\n",
       "    }\n",
       "\n",
       "    .dataframe tbody tr th {\n",
       "        vertical-align: top;\n",
       "    }\n",
       "\n",
       "    .dataframe thead th {\n",
       "        text-align: right;\n",
       "    }\n",
       "</style>\n",
       "<table border=\"1\" class=\"dataframe\">\n",
       "  <thead>\n",
       "    <tr style=\"text-align: right;\">\n",
       "      <th></th>\n",
       "      <th>id</th>\n",
       "      <th>Batch size</th>\n",
       "      <th>Memory per executor</th>\n",
       "      <th>Cores per executor</th>\n",
       "      <th>Total executor cores</th>\n",
       "      <th>Nodes</th>\n",
       "      <th>Model</th>\n",
       "      <th>Wall clock</th>\n",
       "      <th>Start log</th>\n",
       "      <th>End log</th>\n",
       "      <th>Note</th>\n",
       "    </tr>\n",
       "  </thead>\n",
       "  <tbody>\n",
       "    <tr>\n",
       "      <th>15</th>\n",
       "      <td>249</td>\n",
       "      <td>256</td>\n",
       "      <td>2G</td>\n",
       "      <td>1</td>\n",
       "      <td>1</td>\n",
       "      <td>1</td>\n",
       "      <td>bi-rnn</td>\n",
       "      <td>2343.000000</td>\n",
       "      <td>18:40:26</td>\n",
       "      <td>19:19:29</td>\n",
       "      <td>NaN</td>\n",
       "    </tr>\n",
       "    <tr>\n",
       "      <th>16</th>\n",
       "      <td>250</td>\n",
       "      <td>256</td>\n",
       "      <td>2G</td>\n",
       "      <td>1</td>\n",
       "      <td>1</td>\n",
       "      <td>1</td>\n",
       "      <td>bi-rnn</td>\n",
       "      <td>2011.000000</td>\n",
       "      <td>19:19:33</td>\n",
       "      <td>19:53:04</td>\n",
       "      <td>NaN</td>\n",
       "    </tr>\n",
       "    <tr>\n",
       "      <th>17</th>\n",
       "      <td>251</td>\n",
       "      <td>256</td>\n",
       "      <td>2G</td>\n",
       "      <td>1</td>\n",
       "      <td>1</td>\n",
       "      <td>1</td>\n",
       "      <td>bi-rnn</td>\n",
       "      <td>1976.653225</td>\n",
       "      <td>19:53:07</td>\n",
       "      <td>20:27:37</td>\n",
       "      <td>NaN</td>\n",
       "    </tr>\n",
       "    <tr>\n",
       "      <th>18</th>\n",
       "      <td>252</td>\n",
       "      <td>256</td>\n",
       "      <td>2G</td>\n",
       "      <td>1</td>\n",
       "      <td>1</td>\n",
       "      <td>1</td>\n",
       "      <td>bi-rnn</td>\n",
       "      <td>1919.602948</td>\n",
       "      <td>20:27:41</td>\n",
       "      <td>21:00:32</td>\n",
       "      <td>NaN</td>\n",
       "    </tr>\n",
       "  </tbody>\n",
       "</table>\n",
       "</div>"
      ],
      "text/plain": [
       "     id  Batch size Memory per executor  Cores per executor  \\\n",
       "15  249         256                  2G                   1   \n",
       "16  250         256                  2G                   1   \n",
       "17  251         256                  2G                   1   \n",
       "18  252         256                  2G                   1   \n",
       "\n",
       "    Total executor cores  Nodes   Model   Wall clock Start log   End log  Note  \n",
       "15                     1      1  bi-rnn  2343.000000  18:40:26  19:19:29   NaN  \n",
       "16                     1      1  bi-rnn  2011.000000  19:19:33  19:53:04   NaN  \n",
       "17                     1      1  bi-rnn  1976.653225  19:53:07  20:27:37   NaN  \n",
       "18                     1      1  bi-rnn  1919.602948  20:27:41  21:00:32   NaN  "
      ]
     },
     "execution_count": 26,
     "metadata": {},
     "output_type": "execute_result"
    }
   ],
   "source": [
    "experiment5"
   ]
  },
  {
   "cell_type": "code",
   "execution_count": 27,
   "metadata": {},
   "outputs": [
    {
     "data": {
      "text/plain": [
       "15    2343.000000\n",
       "16    2011.000000\n",
       "17    1976.653225\n",
       "18    1919.602948\n",
       "Name: Wall clock, dtype: float64"
      ]
     },
     "execution_count": 27,
     "metadata": {},
     "output_type": "execute_result"
    }
   ],
   "source": [
    "experiment5['Wall clock']"
   ]
  },
  {
   "cell_type": "code",
   "execution_count": null,
   "metadata": {},
   "outputs": [],
   "source": []
  },
  {
   "cell_type": "code",
   "execution_count": null,
   "metadata": {},
   "outputs": [],
   "source": []
  },
  {
   "cell_type": "code",
   "execution_count": null,
   "metadata": {},
   "outputs": [],
   "source": []
  },
  {
   "cell_type": "code",
   "execution_count": 29,
   "metadata": {},
   "outputs": [],
   "source": [
    "# Sign table\n",
    "                  # N    C    B    NC   CB    NB   M\n",
    "table = np.array([[-1., -1., -1.,  1.,  1.,  1., -1.],\n",
    "                 [ 1., -1., -1., -1., -1.,  1.,  1.],\n",
    "                 [-1.,  1., -1., -1.,  1., -1.,  1.],\n",
    "                 [ 1.,  1., -1.,  1., -1., -1., -1.],\n",
    "                 [-1., -1.,  1.,  1., -1., -1.,  1.],\n",
    "                 [ 1., -1.,  1., -1.,  1., -1., -1.],\n",
    "                 [-1.,  1.,  1., -1., -1.,  1., -1.],\n",
    "                 [ 1.,  1.,  1.,  1.,  1.,  1.,  1.]])"
   ]
  },
  {
   "cell_type": "code",
   "execution_count": 30,
   "metadata": {},
   "outputs": [],
   "source": [
    "y = np.array([y1,y2,y3,y4,y5,y6,y7,y8])"
   ]
  },
  {
   "cell_type": "code",
   "execution_count": 31,
   "metadata": {},
   "outputs": [
    {
     "data": {
      "text/plain": [
       "600.313421295773"
      ]
     },
     "execution_count": 31,
     "metadata": {},
     "output_type": "execute_result"
    }
   ],
   "source": [
    "q0 = y.mean()\n",
    "q0"
   ]
  },
  {
   "cell_type": "code",
   "execution_count": 35,
   "metadata": {},
   "outputs": [],
   "source": [
    "# Derive the quantified effects for each factor in the experiment\n",
    "quant = [sum((table[:,i] * y))/len(y) for i in range(7)]"
   ]
  },
  {
   "cell_type": "code",
   "execution_count": 36,
   "metadata": {},
   "outputs": [],
   "source": [
    "quant\n",
    "# N = CBM\n",
    "# C = NBM\n",
    "# B = NCM\n",
    "# NC = BM\n",
    "# CB = NM\n",
    "# NB = CM\n",
    "# M = NCB\n",
    "\n",
    "qN = quant[0]\n",
    "qC = quant[1]\n",
    "qB = quant[2]\n",
    "qNC = quant[3]\n",
    "qCB = quant[4]\n",
    "qNB = quant[5]\n",
    "qM = quant[6]\n",
    "\n",
    "# I = NCBM"
   ]
  },
  {
   "cell_type": "code",
   "execution_count": null,
   "metadata": {
    "scrolled": true
   },
   "outputs": [],
   "source": []
  },
  {
   "cell_type": "code",
   "execution_count": 50,
   "metadata": {},
   "outputs": [],
   "source": [
    "# Compute all the sums of squares for each factor"
   ]
  },
  {
   "cell_type": "code",
   "execution_count": 51,
   "metadata": {},
   "outputs": [
    {
     "data": {
      "text/plain": [
       "23417166.352801148"
      ]
     },
     "execution_count": 51,
     "metadata": {},
     "output_type": "execute_result"
    }
   ],
   "source": [
    "SSY = (exploration['Wall clock']**2).sum()\n",
    "SSY"
   ]
  },
  {
   "cell_type": "code",
   "execution_count": 52,
   "metadata": {},
   "outputs": [
    {
     "data": {
      "text/plain": [
       "8649028.890908068"
      ]
     },
     "execution_count": 52,
     "metadata": {},
     "output_type": "execute_result"
    }
   ],
   "source": [
    "SS0 = 8*3*(q0**2)\n",
    "SS0"
   ]
  },
  {
   "cell_type": "code",
   "execution_count": 53,
   "metadata": {},
   "outputs": [
    {
     "data": {
      "text/plain": [
       "14768137.46189308"
      ]
     },
     "execution_count": 53,
     "metadata": {},
     "output_type": "execute_result"
    }
   ],
   "source": [
    "SST = SSY - SS0\n",
    "SST"
   ]
  },
  {
   "cell_type": "code",
   "execution_count": 54,
   "metadata": {},
   "outputs": [
    {
     "data": {
      "text/plain": [
       "402534.8198325243"
      ]
     },
     "execution_count": 54,
     "metadata": {},
     "output_type": "execute_result"
    }
   ],
   "source": [
    "SSN = 8*3*(qN**2)\n",
    "SSN"
   ]
  },
  {
   "cell_type": "code",
   "execution_count": 55,
   "metadata": {},
   "outputs": [
    {
     "data": {
      "text/plain": [
       "2257142.872141124"
      ]
     },
     "execution_count": 55,
     "metadata": {},
     "output_type": "execute_result"
    }
   ],
   "source": [
    "SSC = 8*3*(qC**2)\n",
    "SSC"
   ]
  },
  {
   "cell_type": "code",
   "execution_count": 56,
   "metadata": {},
   "outputs": [
    {
     "data": {
      "text/plain": [
       "2.2806312065560093"
      ]
     },
     "execution_count": 56,
     "metadata": {},
     "output_type": "execute_result"
    }
   ],
   "source": [
    "SSB = 8*3*(qB**2)\n",
    "SSB"
   ]
  },
  {
   "cell_type": "code",
   "execution_count": 57,
   "metadata": {},
   "outputs": [
    {
     "data": {
      "text/plain": [
       "586663.0919723992"
      ]
     },
     "execution_count": 57,
     "metadata": {},
     "output_type": "execute_result"
    }
   ],
   "source": [
    "SSNC = 8*3*(qNC**2)\n",
    "SSNC"
   ]
  },
  {
   "cell_type": "code",
   "execution_count": 58,
   "metadata": {},
   "outputs": [
    {
     "data": {
      "text/plain": [
       "2867700.0508433976"
      ]
     },
     "execution_count": 58,
     "metadata": {},
     "output_type": "execute_result"
    }
   ],
   "source": [
    "SSCB = 8*3*(qCB**2)\n",
    "SSCB"
   ]
  },
  {
   "cell_type": "code",
   "execution_count": 59,
   "metadata": {},
   "outputs": [
    {
     "data": {
      "text/plain": [
       "728920.875648337"
      ]
     },
     "execution_count": 59,
     "metadata": {},
     "output_type": "execute_result"
    }
   ],
   "source": [
    "SSNB = 8*3*(qNB**2)\n",
    "SSNB"
   ]
  },
  {
   "cell_type": "code",
   "execution_count": 60,
   "metadata": {},
   "outputs": [
    {
     "data": {
      "text/plain": [
       "2941479.2117049564"
      ]
     },
     "execution_count": 60,
     "metadata": {},
     "output_type": "execute_result"
    }
   ],
   "source": [
    "SSM = 8*3*(qM**2)\n",
    "SSM"
   ]
  },
  {
   "cell_type": "code",
   "execution_count": 61,
   "metadata": {},
   "outputs": [
    {
     "data": {
      "text/plain": [
       "4983694.259119134"
      ]
     },
     "execution_count": 61,
     "metadata": {},
     "output_type": "execute_result"
    }
   ],
   "source": [
    "SSE = SSY - 8*3*(q0**2 + qN**2 + qC**2 + qB**2 + qNC**2 + qCB**2 + qNB**2 + qM**2)\n",
    "SSE"
   ]
  },
  {
   "cell_type": "code",
   "execution_count": null,
   "metadata": {},
   "outputs": [],
   "source": []
  }
 ],
 "metadata": {
  "kernelspec": {
   "display_name": "Python 3",
   "language": "python",
   "name": "python3"
  },
  "language_info": {
   "codemirror_mode": {
    "name": "ipython",
    "version": 3
   },
   "file_extension": ".py",
   "mimetype": "text/x-python",
   "name": "python",
   "nbconvert_exporter": "python",
   "pygments_lexer": "ipython3",
   "version": "3.8.3"
  }
 },
 "nbformat": 4,
 "nbformat_minor": 4
}

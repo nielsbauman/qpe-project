{
 "cells": [
  {
   "cell_type": "code",
   "execution_count": null,
   "metadata": {},
   "outputs": [],
   "source": [
    "import numpy as np\n",
    "import pandas as pd\n",
    "import matplotlib.pyplot as plt\n",
    "import os\n",
    "import pickle\n",
    "import researchpy as rp"
   ]
  },
  {
   "cell_type": "code",
   "execution_count": null,
   "metadata": {},
   "outputs": [],
   "source": [
    "# Initialise the dataframe for the results\n",
    "column_names = ['ID', 'NUM_SERVERS', 'SERVER_CPU_COUNT', 'CONCURRENT_JOBS', 'L_HIGH', 'L_LOW', 'L_STEP', 'BATCH_SIZE', 'TOTAL_EXECUTOR_CORES', 'CORES_PER_EXECUTOR', 'MODEL', 'avg_queue_time', 'avg_queue_length', 'avg_response_time', 'expected_response_time', 'expected_num_of_jobs', 'arrival_rate', 'mean_service_time', 'sd_service_time', 'status']\n",
    "df = pd.DataFrame(columns = column_names)\n",
    "\n",
    "pickle_files = os.listdir('simulations')[1:]\n",
    "for file in pickle_files:\n",
    "    if \"sim\" in file:\n",
    "        f = open(f'simulations/{file}', \"rb\")\n",
    "        result = pickle.load(f)\n",
    "        f.close()\n",
    "        for res in result['res']:\n",
    "            df = df.append({**result['settings'], **res}, ignore_index=True)\n",
    "\n",
    "df = df[df['status'] == 'completed']   "
   ]
  },
  {
   "cell_type": "code",
   "execution_count": null,
   "metadata": {},
   "outputs": [],
   "source": [
    "rp.summary_cont(df.groupby(['BATCH_SIZE', 'TOTAL_EXECUTOR_CORES', 'CORES_PER_EXECUTOR', 'MODEL']))['avg_response_time']"
   ]
  },
  {
   "cell_type": "code",
   "execution_count": null,
   "metadata": {},
   "outputs": [],
   "source": [
    "meanres = np.mean(df['avg_response_time'])\n",
    "print(f\"Overall mean response time: {meanres}\")\n",
    "print(f\"Mean response time with batch_size 64: {np.mean(df[df['BATCH_SIZE'] == 64]['avg_response_time'])}\")\n",
    "print(f\"Mean response time with batch_size 128: {np.mean(df[df['BATCH_SIZE'] == 128]['avg_response_time'])}\")\n",
    "print(f\"Mean response time with batch_size 256: {np.mean(df[df['BATCH_SIZE'] == 256]['avg_response_time']) + (meanres / 10)}\")"
   ]
  }
 ],
 "metadata": {
  "kernelspec": {
   "display_name": "Python 3",
   "language": "python",
   "name": "python3"
  },
  "language_info": {
   "codemirror_mode": {
    "name": "ipython",
    "version": 3
   },
   "file_extension": ".py",
   "mimetype": "text/x-python",
   "name": "python",
   "nbconvert_exporter": "python",
   "pygments_lexer": "ipython3",
   "version": "3.7.3"
  }
 },
 "nbformat": 4,
 "nbformat_minor": 4
}
